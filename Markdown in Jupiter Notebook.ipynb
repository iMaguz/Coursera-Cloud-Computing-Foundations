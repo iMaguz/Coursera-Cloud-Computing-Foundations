{
 "cells": [
  {
   "cell_type": "code",
   "execution_count": 1,
   "metadata": {},
   "outputs": [
    {
     "name": "stdout",
     "output_type": "stream",
     "text": [
      "hello world\n"
     ]
    }
   ],
   "source": [
    "print(\"hello world\")"
   ]
  },
  {
   "attachments": {},
   "cell_type": "markdown",
   "metadata": {},
   "source": [
    "# This is a title\n",
    "This markdown text is prepared in Jupiter Notebook.\n",
    "\n",
    "---\n",
    "\n",
    "### This is an unordered list\n",
    "* This is a bullet\n",
    "* This is another bullet\n",
    "\n",
    "---\n",
    "\n",
    "### This is an ordered list\n",
    "1. This is item #1\n",
    "2. This is item #2\n",
    "\n",
    "---\n",
    "\n",
    "### This is a list of tasks\n",
    "- [ ] Task #1\n",
    "- [ ] Task #2\n",
    "\n",
    "---\n",
    "\n",
    "### This is a code\n",
    "```\n",
    "print(\"hello world\")\n"
   ]
  }
 ],
 "metadata": {
  "kernelspec": {
   "display_name": ".venv",
   "language": "python",
   "name": "python3"
  },
  "language_info": {
   "codemirror_mode": {
    "name": "ipython",
    "version": 3
   },
   "file_extension": ".py",
   "mimetype": "text/x-python",
   "name": "python",
   "nbconvert_exporter": "python",
   "pygments_lexer": "ipython3",
   "version": "3.9.6"
  },
  "orig_nbformat": 4
 },
 "nbformat": 4,
 "nbformat_minor": 2
}
