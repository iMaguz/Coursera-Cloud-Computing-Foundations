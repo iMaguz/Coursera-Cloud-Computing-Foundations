{
  "nbformat": 4,
  "nbformat_minor": 0,
  "metadata": {
    "colab": {
      "provenance": [],
      "authorship_tag": "ABX9TyO8J/r5oe2mmoOpfDYZoMBE",
      "include_colab_link": true
    },
    "kernelspec": {
      "name": "python3",
      "display_name": "Python 3"
    },
    "language_info": {
      "name": "python"
    }
  },
  "cells": [
    {
      "cell_type": "markdown",
      "metadata": {
        "id": "view-in-github",
        "colab_type": "text"
      },
      "source": [
        "<a href=\"https://colab.research.google.com/github/iMaguz/Coursera-Cloud-Computing-Foundations/blob/main/Markdown%20in%20Colab.ipynb\" target=\"_parent\"><img src=\"https://colab.research.google.com/assets/colab-badge.svg\" alt=\"Open In Colab\"/></a>"
      ]
    },
    {
      "cell_type": "code",
      "execution_count": 1,
      "metadata": {
        "colab": {
          "base_uri": "https://localhost:8080/"
        },
        "id": "91lCs0SEY1oE",
        "outputId": "0f44af40-1a56-4b78-8d6a-052f78211afe"
      },
      "outputs": [
        {
          "output_type": "stream",
          "name": "stdout",
          "text": [
            "hello world\n"
          ]
        }
      ],
      "source": [
        "print(\"hello world\")"
      ]
    },
    {
      "cell_type": "markdown",
      "source": [
        "# This is a title\n",
        "This is a statement using plain text.\n",
        "\n",
        "---\n",
        "\n",
        "### This is an unordered list\n",
        "* This is a bullet\n",
        "* This is another bullet\n",
        "\n",
        "---\n",
        "\n",
        "### This is an ordered list\n",
        "1. This is item #1\n",
        "2. This is item #2\n",
        "\n",
        "---\n",
        "\n",
        "### This is a list of tasks\n",
        "- [ ] Task #1\n",
        "- [ ] Task #2\n",
        "\n",
        "---\n",
        "\n",
        "### This is a code\n",
        "```\n",
        "print(\"hello world\")\n"
      ],
      "metadata": {
        "id": "qqG6j748cGsg"
      }
    }
  ]
}